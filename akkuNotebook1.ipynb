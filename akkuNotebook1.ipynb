{
  "nbformat": 4,
  "nbformat_minor": 0,
  "metadata": {
    "colab": {
      "name": "akkuNotebook1.ipynb",
      "provenance": []
    },
    "kernelspec": {
      "name": "python3",
      "display_name": "Python 3"
    }
  },
  "cells": [
    {
      "cell_type": "code",
      "metadata": {
        "colab": {
          "base_uri": "https://localhost:8080/"
        },
        "id": "9qPWFTjBWUPg",
        "outputId": "ae01c316-6f91-486d-e013-91a2acf57e63"
      },
      "source": [
        "!apt-get install openjdk-8-jdk-headless -qq > /dev/null\r\n",
        "!wget -q https://www-us.apache.org/dist/spark/spark-2.4.7/spark-2.4.7-bin-hadoop2.7.tgz\r\n",
        "\r\n",
        "!tar xf spark-2.4.7-bin-hadoop2.7.tgz\r\n",
        "!pip install -q findspark"
      ],
      "execution_count": null,
      "outputs": [
        {
          "output_type": "stream",
          "text": [
            "^C\n"
          ],
          "name": "stdout"
        }
      ]
    },
    {
      "cell_type": "code",
      "metadata": {
        "id": "1bP6QXWCaASm"
      },
      "source": [
        "import os\r\n",
        "os.environ[\"JAVA_HOME\"] = \"/usr/lib/jvm/java-8-openjdk-amd64\"\r\n",
        "os.environ[\"SPARK_HOME\"] = \"/content/spark-2.4.7-bin-hadoop2.7\""
      ],
      "execution_count": null,
      "outputs": []
    },
    {
      "cell_type": "code",
      "metadata": {
        "id": "uriP6saiaVRk"
      },
      "source": [
        "import findspark\r\n",
        "findspark.init()"
      ],
      "execution_count": null,
      "outputs": []
    },
    {
      "cell_type": "code",
      "metadata": {
        "id": "wv7On2H7b1WH"
      },
      "source": [
        "import pyspark\r\n",
        "sc = pyspark.SparkContext(appName=\"yourAppName\")"
      ],
      "execution_count": null,
      "outputs": []
    },
    {
      "cell_type": "code",
      "metadata": {
        "id": "HxlsdFqCb9cg"
      },
      "source": [
        "from pyspark.sql import SparkSession\r\n",
        "from pyspark.ml import Pipeline\r\n",
        "from pyspark.sql.functions import mean,col,split, col, regexp_extract, when, lit\r\n",
        "from pyspark.ml.feature import StringIndexer\r\n",
        "from pyspark.ml.feature import VectorAssembler\r\n",
        "from pyspark.ml.evaluation import MulticlassClassificationEvaluator\r\n",
        "from pyspark.ml.feature import QuantileDiscretizer\r\n"
      ],
      "execution_count": null,
      "outputs": []
    },
    {
      "cell_type": "code",
      "metadata": {
        "id": "bO2CXkbWcdNu"
      },
      "source": [
        "spark = SparkSession \\\r\n",
        "    .builder \\\r\n",
        "    .appName(\"Spark ML example on titanic data \") \\\r\n",
        "    .getOrCreate()"
      ],
      "execution_count": null,
      "outputs": []
    },
    {
      "cell_type": "code",
      "metadata": {
        "id": "1ITUcXZmeby0"
      },
      "source": [
        "!pip install -q kaggle\r\n"
      ],
      "execution_count": null,
      "outputs": []
    },
    {
      "cell_type": "markdown",
      "metadata": {
        "id": "apnx0jyQivuU"
      },
      "source": [
        "1. Go to your account, Scroll to API section and Click Expire API Token to remove previous tokens\r\n",
        "\r\n",
        "2. Click on Create New API Token - It will download kaggle.json file on your machine.\r\n",
        "\r\n",
        "3. Go to your Google Colab project file and run the following commands:"
      ]
    },
    {
      "cell_type": "code",
      "metadata": {
        "colab": {
          "resources": {
            "http://localhost:8080/nbextensions/google.colab/files.js": {
              "data": "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",
              "ok": true,
              "headers": [
                [
                  "content-type",
                  "application/javascript"
                ]
              ],
              "status": 200,
              "status_text": ""
            }
          },
          "base_uri": "https://localhost:8080/",
          "height": 91
        },
        "id": "QgF6uHihfah5",
        "outputId": "d4407b8f-308d-4c9b-812d-bdb9e7d59f36"
      },
      "source": [
        " from google.colab import files\r\n",
        "\r\n",
        "files.upload()"
      ],
      "execution_count": null,
      "outputs": [
        {
          "output_type": "display_data",
          "data": {
            "text/html": [
              "\n",
              "     <input type=\"file\" id=\"files-4e4ebac6-c255-434d-9046-9e13d77dd33b\" name=\"files[]\" multiple disabled\n",
              "        style=\"border:none\" />\n",
              "     <output id=\"result-4e4ebac6-c255-434d-9046-9e13d77dd33b\">\n",
              "      Upload widget is only available when the cell has been executed in the\n",
              "      current browser session. Please rerun this cell to enable.\n",
              "      </output>\n",
              "      <script src=\"/nbextensions/google.colab/files.js\"></script> "
            ],
            "text/plain": [
              "<IPython.core.display.HTML object>"
            ]
          },
          "metadata": {
            "tags": []
          }
        },
        {
          "output_type": "stream",
          "text": [
            "Saving kaggle.json to kaggle.json\n"
          ],
          "name": "stdout"
        },
        {
          "output_type": "execute_result",
          "data": {
            "text/plain": [
              "{'kaggle.json': b'{\"username\":\"victor3471\",\"key\":\"ea5414a37601e07969039253899049c7\"}'}"
            ]
          },
          "metadata": {
            "tags": []
          },
          "execution_count": 47
        }
      ]
    },
    {
      "cell_type": "code",
      "metadata": {
        "colab": {
          "base_uri": "https://localhost:8080/"
        },
        "id": "ylch1lQOgdeb",
        "outputId": "83829914-9d8b-4a9a-a3af-98c03b56640a"
      },
      "source": [
        "! mkdir ~/.kaggle\r\n",
        "! cp kaggle.json ~/.kaggle/"
      ],
      "execution_count": null,
      "outputs": [
        {
          "output_type": "stream",
          "text": [
            "mkdir: cannot create directory ‘/root/.kaggle’: File exists\n"
          ],
          "name": "stdout"
        }
      ]
    },
    {
      "cell_type": "code",
      "metadata": {
        "id": "RM2aFf_WinhL"
      },
      "source": [
        " ! chmod 600 ~/.kaggle/kaggle.json"
      ],
      "execution_count": null,
      "outputs": []
    },
    {
      "cell_type": "code",
      "metadata": {
        "colab": {
          "base_uri": "https://localhost:8080/"
        },
        "id": "ZHD1v5Duitgb",
        "outputId": "1d2c7c30-c852-4ea2-f8d1-36d6e990e532"
      },
      "source": [
        "!kaggle competitions download -c titanic"
      ],
      "execution_count": null,
      "outputs": [
        {
          "output_type": "stream",
          "text": [
            "Warning: Looks like you're using an outdated API Version, please consider updating (server 1.5.10 / client 1.5.4)\n",
            "Downloading test.csv to /content\n",
            "  0% 0.00/28.0k [00:00<?, ?B/s]\n",
            "100% 28.0k/28.0k [00:00<00:00, 26.9MB/s]\n",
            "Downloading gender_submission.csv to /content\n",
            "  0% 0.00/3.18k [00:00<?, ?B/s]\n",
            "100% 3.18k/3.18k [00:00<00:00, 2.86MB/s]\n",
            "Downloading train.csv to /content\n",
            "  0% 0.00/59.8k [00:00<?, ?B/s]\n",
            "100% 59.8k/59.8k [00:00<00:00, 60.8MB/s]\n"
          ],
          "name": "stdout"
        }
      ]
    },
    {
      "cell_type": "code",
      "metadata": {
        "id": "0Wa6G5KHc4qt"
      },
      "source": [
        "s3_bucket_path = \"train.csv\"\r\n"
      ],
      "execution_count": null,
      "outputs": []
    },
    {
      "cell_type": "code",
      "metadata": {
        "colab": {
          "base_uri": "https://localhost:8080/"
        },
        "id": "4WJDI2_8jikB",
        "outputId": "051dbc14-5be0-4b3d-b894-1a031724236e"
      },
      "source": [
        "!ls"
      ],
      "execution_count": null,
      "outputs": [
        {
          "output_type": "stream",
          "text": [
            "gender_submission.csv  spark-2.4.7-bin-hadoop2.7\ttest.csv\n",
            "kaggle.json\t       spark-2.4.7-bin-hadoop2.7.tgz\ttrain.csv\n",
            "sample_data\t       spark-2.4.7-bin-hadoop2.7.tgz.1\n"
          ],
          "name": "stdout"
        }
      ]
    },
    {
      "cell_type": "code",
      "metadata": {
        "id": "qSeu5bEwc8IC"
      },
      "source": [
        "titanic_df = spark.read.csv(s3_bucket_path,header = 'True',inferSchema='True')\r\n"
      ],
      "execution_count": null,
      "outputs": []
    },
    {
      "cell_type": "code",
      "metadata": {
        "colab": {
          "base_uri": "https://localhost:8080/",
          "height": 54
        },
        "id": "0RMrxSZ-j5kF",
        "outputId": "eaa3b8e3-4ab1-4fa8-a6a4-0b1e9947ebcd"
      },
      "source": [
        "display(titanic_df)"
      ],
      "execution_count": null,
      "outputs": [
        {
          "output_type": "display_data",
          "data": {
            "text/plain": [
              "DataFrame[PassengerId: int, Survived: int, Pclass: int, Name: string, Sex: string, Age: double, SibSp: int, Parch: int, Ticket: string, Fare: double, Cabin: string, Embarked: string]"
            ]
          },
          "metadata": {
            "tags": []
          }
        }
      ]
    },
    {
      "cell_type": "code",
      "metadata": {
        "colab": {
          "base_uri": "https://localhost:8080/"
        },
        "id": "0PKJcC1okBiS",
        "outputId": "c4470174-4005-4a19-ae75-4270cab410c8"
      },
      "source": [
        "titanic_df.printSchema()"
      ],
      "execution_count": null,
      "outputs": [
        {
          "output_type": "stream",
          "text": [
            "root\n",
            " |-- PassengerId: integer (nullable = true)\n",
            " |-- Survived: integer (nullable = true)\n",
            " |-- Pclass: integer (nullable = true)\n",
            " |-- Name: string (nullable = true)\n",
            " |-- Sex: string (nullable = true)\n",
            " |-- Age: double (nullable = true)\n",
            " |-- SibSp: integer (nullable = true)\n",
            " |-- Parch: integer (nullable = true)\n",
            " |-- Ticket: string (nullable = true)\n",
            " |-- Fare: double (nullable = true)\n",
            " |-- Cabin: string (nullable = true)\n",
            " |-- Embarked: string (nullable = true)\n",
            "\n"
          ],
          "name": "stdout"
        }
      ]
    },
    {
      "cell_type": "code",
      "metadata": {
        "colab": {
          "base_uri": "https://localhost:8080/"
        },
        "id": "UmIKX9n1kHqq",
        "outputId": "b1f7c6fa-41db-49d3-f212-131b466262fd"
      },
      "source": [
        "passengers_count = titanic_df.count()\r\n",
        "print(passengers_count)"
      ],
      "execution_count": null,
      "outputs": [
        {
          "output_type": "stream",
          "text": [
            "891\n"
          ],
          "name": "stdout"
        }
      ]
    },
    {
      "cell_type": "code",
      "metadata": {
        "colab": {
          "base_uri": "https://localhost:8080/"
        },
        "id": "xSltZUILkSgK",
        "outputId": "147bc267-eec6-4c6e-8447-b0f8a2e18ae4"
      },
      "source": [
        "titanic_df.show(10)"
      ],
      "execution_count": null,
      "outputs": [
        {
          "output_type": "stream",
          "text": [
            "+-----------+--------+------+--------------------+------+----+-----+-----+----------------+-------+-----+--------+\n",
            "|PassengerId|Survived|Pclass|                Name|   Sex| Age|SibSp|Parch|          Ticket|   Fare|Cabin|Embarked|\n",
            "+-----------+--------+------+--------------------+------+----+-----+-----+----------------+-------+-----+--------+\n",
            "|          1|       0|     3|Braund, Mr. Owen ...|  male|22.0|    1|    0|       A/5 21171|   7.25| null|       S|\n",
            "|          2|       1|     1|Cumings, Mrs. Joh...|female|38.0|    1|    0|        PC 17599|71.2833|  C85|       C|\n",
            "|          3|       1|     3|Heikkinen, Miss. ...|female|26.0|    0|    0|STON/O2. 3101282|  7.925| null|       S|\n",
            "|          4|       1|     1|Futrelle, Mrs. Ja...|female|35.0|    1|    0|          113803|   53.1| C123|       S|\n",
            "|          5|       0|     3|Allen, Mr. Willia...|  male|35.0|    0|    0|          373450|   8.05| null|       S|\n",
            "|          6|       0|     3|    Moran, Mr. James|  male|null|    0|    0|          330877| 8.4583| null|       Q|\n",
            "|          7|       0|     1|McCarthy, Mr. Tim...|  male|54.0|    0|    0|           17463|51.8625|  E46|       S|\n",
            "|          8|       0|     3|Palsson, Master. ...|  male| 2.0|    3|    1|          349909| 21.075| null|       S|\n",
            "|          9|       1|     3|Johnson, Mrs. Osc...|female|27.0|    0|    2|          347742|11.1333| null|       S|\n",
            "|         10|       1|     2|Nasser, Mrs. Nich...|female|14.0|    1|    0|          237736|30.0708| null|       C|\n",
            "+-----------+--------+------+--------------------+------+----+-----+-----+----------------+-------+-----+--------+\n",
            "only showing top 10 rows\n",
            "\n"
          ],
          "name": "stdout"
        }
      ]
    },
    {
      "cell_type": "code",
      "metadata": {
        "colab": {
          "base_uri": "https://localhost:8080/"
        },
        "id": "NEfPGLjFkahC",
        "outputId": "79961c7e-65c3-44e2-d5a4-d90d30c1cecf"
      },
      "source": [
        "titanic_df.describe().show()\r\n"
      ],
      "execution_count": null,
      "outputs": [
        {
          "output_type": "stream",
          "text": [
            "+-------+-----------------+-------------------+------------------+--------------------+------+------------------+------------------+-------------------+------------------+-----------------+-----+--------+\n",
            "|summary|      PassengerId|           Survived|            Pclass|                Name|   Sex|               Age|             SibSp|              Parch|            Ticket|             Fare|Cabin|Embarked|\n",
            "+-------+-----------------+-------------------+------------------+--------------------+------+------------------+------------------+-------------------+------------------+-----------------+-----+--------+\n",
            "|  count|              891|                891|               891|                 891|   891|               714|               891|                891|               891|              891|  204|     889|\n",
            "|   mean|            446.0| 0.3838383838383838| 2.308641975308642|                null|  null| 29.69911764705882|0.5230078563411896|0.38159371492704824|260318.54916792738| 32.2042079685746| null|    null|\n",
            "| stddev|257.3538420152301|0.48659245426485753|0.8360712409770491|                null|  null|14.526497332334035|1.1027434322934315| 0.8060572211299488|471609.26868834975|49.69342859718089| null|    null|\n",
            "|    min|                1|                  0|                 1|\"Andersson, Mr. A...|female|              0.42|                 0|                  0|            110152|              0.0|  A10|       C|\n",
            "|    max|              891|                  1|                 3|van Melkebeke, Mr...|  male|              80.0|                 8|                  6|         WE/P 5735|         512.3292|    T|       S|\n",
            "+-------+-----------------+-------------------+------------------+--------------------+------+------------------+------------------+-------------------+------------------+-----------------+-----+--------+\n",
            "\n"
          ],
          "name": "stdout"
        }
      ]
    },
    {
      "cell_type": "code",
      "metadata": {
        "colab": {
          "base_uri": "https://localhost:8080/"
        },
        "id": "p0LR47n7ukWl",
        "outputId": "dee9ed54-8d98-461c-a8fe-c00f9135c5bd"
      },
      "source": [
        "titanic_df.select(\"Survived\",\"Pclass\",\"Embarked\").show(30)\r\n"
      ],
      "execution_count": null,
      "outputs": [
        {
          "output_type": "stream",
          "text": [
            "+--------+------+--------+\n",
            "|Survived|Pclass|Embarked|\n",
            "+--------+------+--------+\n",
            "|       0|     3|       S|\n",
            "|       1|     1|       C|\n",
            "|       1|     3|       S|\n",
            "|       1|     1|       S|\n",
            "|       0|     3|       S|\n",
            "|       0|     3|       Q|\n",
            "|       0|     1|       S|\n",
            "|       0|     3|       S|\n",
            "|       1|     3|       S|\n",
            "|       1|     2|       C|\n",
            "|       1|     3|       S|\n",
            "|       1|     1|       S|\n",
            "|       0|     3|       S|\n",
            "|       0|     3|       S|\n",
            "|       0|     3|       S|\n",
            "|       1|     2|       S|\n",
            "|       0|     3|       Q|\n",
            "|       1|     2|       S|\n",
            "|       0|     3|       S|\n",
            "|       1|     3|       C|\n",
            "|       0|     2|       S|\n",
            "|       1|     2|       S|\n",
            "|       1|     3|       Q|\n",
            "|       1|     1|       S|\n",
            "|       0|     3|       S|\n",
            "|       1|     3|       S|\n",
            "|       0|     3|       C|\n",
            "|       0|     1|       S|\n",
            "|       1|     3|       Q|\n",
            "|       0|     3|       S|\n",
            "+--------+------+--------+\n",
            "only showing top 30 rows\n",
            "\n"
          ],
          "name": "stdout"
        }
      ]
    },
    {
      "cell_type": "code",
      "metadata": {
        "colab": {
          "base_uri": "https://localhost:8080/"
        },
        "id": "pop9tkaovL0a",
        "outputId": "5471f00b-efb7-4f83-e76b-28a9654400c5"
      },
      "source": [
        "titanic_df.groupBy(\"Survived\").count().show()"
      ],
      "execution_count": null,
      "outputs": [
        {
          "output_type": "stream",
          "text": [
            "+--------+-----+\n",
            "|Survived|count|\n",
            "+--------+-----+\n",
            "|       1|  342|\n",
            "|       0|  549|\n",
            "+--------+-----+\n",
            "\n"
          ],
          "name": "stdout"
        }
      ]
    },
    {
      "cell_type": "code",
      "metadata": {
        "colab": {
          "base_uri": "https://localhost:8080/"
        },
        "id": "6b-ZgSGWvcS2",
        "outputId": "806eddf8-05f1-43e9-8ec6-82fbfcb2cb23"
      },
      "source": [
        "gropuBy_output = titanic_df.groupBy(\"Survived\").count()\r\n",
        "print (gropuBy_output.show())"
      ],
      "execution_count": null,
      "outputs": [
        {
          "output_type": "stream",
          "text": [
            "+--------+-----+\n",
            "|Survived|count|\n",
            "+--------+-----+\n",
            "|       1|  342|\n",
            "|       0|  549|\n",
            "+--------+-----+\n",
            "\n",
            "None\n"
          ],
          "name": "stdout"
        }
      ]
    },
    {
      "cell_type": "code",
      "metadata": {
        "id": "PYcKj6c3wtC0"
      },
      "source": [
        "def null_value_count(df):\r\n",
        "  null_columns_counts = []\r\n",
        "  numRows = df.count()\r\n",
        "  for k in df.columns:\r\n",
        "    nullRows = df.where(col(k).isNull()).count()\r\n",
        "    if(nullRows > 0):\r\n",
        "      temp = k,nullRows\r\n",
        "      null_columns_counts.append(temp)\r\n",
        "  return(null_columns_counts)"
      ],
      "execution_count": null,
      "outputs": []
    },
    {
      "cell_type": "code",
      "metadata": {
        "colab": {
          "base_uri": "https://localhost:8080/"
        },
        "id": "vyhLaxnpwzcv",
        "outputId": "96f65731-c80d-4f4d-9989-62cbac714893"
      },
      "source": [
        "null_columns_count_list = null_value_count(titanic_df)\r\n",
        "print(null_columns_count_list)\r\n"
      ],
      "execution_count": null,
      "outputs": [
        {
          "output_type": "stream",
          "text": [
            "[('Age', 177), ('Cabin', 687), ('Embarked', 2)]\n"
          ],
          "name": "stdout"
        }
      ]
    },
    {
      "cell_type": "code",
      "metadata": {
        "colab": {
          "base_uri": "https://localhost:8080/"
        },
        "id": "3s89lWZ3xBN2",
        "outputId": "6cb52bb1-b125-41fb-ac38-c15556b6a5fb"
      },
      "source": [
        "spark.createDataFrame(null_columns_count_list, ['Column_With_Null_Value', 'Null_Values_Count']).show()"
      ],
      "execution_count": null,
      "outputs": [
        {
          "output_type": "stream",
          "text": [
            "+----------------------+-----------------+\n",
            "|Column_With_Null_Value|Null_Values_Count|\n",
            "+----------------------+-----------------+\n",
            "|                   Age|              177|\n",
            "|                 Cabin|              687|\n",
            "|              Embarked|                2|\n",
            "+----------------------+-----------------+\n",
            "\n"
          ],
          "name": "stdout"
        }
      ]
    },
    {
      "cell_type": "code",
      "metadata": {
        "colab": {
          "base_uri": "https://localhost:8080/"
        },
        "id": "NlhZ6cT3yNrB",
        "outputId": "cdb46e94-7d44-42a1-8eaa-36002dfff6ef"
      },
      "source": [
        "mean_age = titanic_df.select(mean('Age')).collect()[0][0]\r\n",
        "print(mean_age)"
      ],
      "execution_count": null,
      "outputs": [
        {
          "output_type": "stream",
          "text": [
            "29.69911764705882\n"
          ],
          "name": "stdout"
        }
      ]
    },
    {
      "cell_type": "code",
      "metadata": {
        "colab": {
          "base_uri": "https://localhost:8080/"
        },
        "id": "IFm8wzNt0Qbc",
        "outputId": "60d8ce6d-4192-43ae-9ed2-3e2d872e0026"
      },
      "source": [
        "titanic_df = titanic_df.withColumn(\"Initial\",regexp_extract(col(\"Name\"),\"([A-Za-z]+)\\.\",1))\r\n",
        "titanic_df.show()"
      ],
      "execution_count": null,
      "outputs": [
        {
          "output_type": "stream",
          "text": [
            "+-----------+--------+------+--------------------+------+----+-----+-----+----------------+-------+-----+--------+-------+\n",
            "|PassengerId|Survived|Pclass|                Name|   Sex| Age|SibSp|Parch|          Ticket|   Fare|Cabin|Embarked|Initial|\n",
            "+-----------+--------+------+--------------------+------+----+-----+-----+----------------+-------+-----+--------+-------+\n",
            "|          1|       0|     3|Braund, Mr. Owen ...|  male|22.0|    1|    0|       A/5 21171|   7.25| null|       S|     Mr|\n",
            "|          2|       1|     1|Cumings, Mrs. Joh...|female|38.0|    1|    0|        PC 17599|71.2833|  C85|       C|    Mrs|\n",
            "|          3|       1|     3|Heikkinen, Miss. ...|female|26.0|    0|    0|STON/O2. 3101282|  7.925| null|       S|   Miss|\n",
            "|          4|       1|     1|Futrelle, Mrs. Ja...|female|35.0|    1|    0|          113803|   53.1| C123|       S|    Mrs|\n",
            "|          5|       0|     3|Allen, Mr. Willia...|  male|35.0|    0|    0|          373450|   8.05| null|       S|     Mr|\n",
            "|          6|       0|     3|    Moran, Mr. James|  male|null|    0|    0|          330877| 8.4583| null|       Q|     Mr|\n",
            "|          7|       0|     1|McCarthy, Mr. Tim...|  male|54.0|    0|    0|           17463|51.8625|  E46|       S|     Mr|\n",
            "|          8|       0|     3|Palsson, Master. ...|  male| 2.0|    3|    1|          349909| 21.075| null|       S| Master|\n",
            "|          9|       1|     3|Johnson, Mrs. Osc...|female|27.0|    0|    2|          347742|11.1333| null|       S|    Mrs|\n",
            "|         10|       1|     2|Nasser, Mrs. Nich...|female|14.0|    1|    0|          237736|30.0708| null|       C|    Mrs|\n",
            "|         11|       1|     3|Sandstrom, Miss. ...|female| 4.0|    1|    1|         PP 9549|   16.7|   G6|       S|   Miss|\n",
            "|         12|       1|     1|Bonnell, Miss. El...|female|58.0|    0|    0|          113783|  26.55| C103|       S|   Miss|\n",
            "|         13|       0|     3|Saundercock, Mr. ...|  male|20.0|    0|    0|       A/5. 2151|   8.05| null|       S|     Mr|\n",
            "|         14|       0|     3|Andersson, Mr. An...|  male|39.0|    1|    5|          347082| 31.275| null|       S|     Mr|\n",
            "|         15|       0|     3|Vestrom, Miss. Hu...|female|14.0|    0|    0|          350406| 7.8542| null|       S|   Miss|\n",
            "|         16|       1|     2|Hewlett, Mrs. (Ma...|female|55.0|    0|    0|          248706|   16.0| null|       S|    Mrs|\n",
            "|         17|       0|     3|Rice, Master. Eugene|  male| 2.0|    4|    1|          382652| 29.125| null|       Q| Master|\n",
            "|         18|       1|     2|Williams, Mr. Cha...|  male|null|    0|    0|          244373|   13.0| null|       S|     Mr|\n",
            "|         19|       0|     3|Vander Planke, Mr...|female|31.0|    1|    0|          345763|   18.0| null|       S|    Mrs|\n",
            "|         20|       1|     3|Masselmani, Mrs. ...|female|null|    0|    0|            2649|  7.225| null|       C|    Mrs|\n",
            "+-----------+--------+------+--------------------+------+----+-----+-----+----------------+-------+-----+--------+-------+\n",
            "only showing top 20 rows\n",
            "\n"
          ],
          "name": "stdout"
        }
      ]
    },
    {
      "cell_type": "code",
      "metadata": {
        "colab": {
          "base_uri": "https://localhost:8080/"
        },
        "id": "mjk0dBMf2S_q",
        "outputId": "8a6c1aac-a744-4b78-dbf9-b5ed22ec26fb"
      },
      "source": [
        "titanic_df.select(\"Initial\").distinct().show()"
      ],
      "execution_count": null,
      "outputs": [
        {
          "output_type": "stream",
          "text": [
            "+--------+\n",
            "| Initial|\n",
            "+--------+\n",
            "|     Don|\n",
            "|    Miss|\n",
            "|Countess|\n",
            "|     Col|\n",
            "|     Rev|\n",
            "|    Lady|\n",
            "|  Master|\n",
            "|     Mme|\n",
            "|    Capt|\n",
            "|      Mr|\n",
            "|      Dr|\n",
            "|     Mrs|\n",
            "|     Sir|\n",
            "|Jonkheer|\n",
            "|    Mlle|\n",
            "|   Major|\n",
            "|      Ms|\n",
            "+--------+\n",
            "\n"
          ],
          "name": "stdout"
        }
      ]
    },
    {
      "cell_type": "code",
      "metadata": {
        "id": "DCOGivhm2fmv"
      },
      "source": [
        "titanic_df = titanic_df.replace(['Mlle','Mme', 'Ms', 'Dr','Major','Lady','Countess','Jonkheer','Col','Rev','Capt','Sir','Don'],\r\n",
        "               ['Miss','Miss','Miss','Mr','Mr',  'Mrs',  'Mrs',  'Other',  'Other','Other','Mr','Mr','Mr'])"
      ],
      "execution_count": null,
      "outputs": []
    },
    {
      "cell_type": "code",
      "metadata": {
        "colab": {
          "base_uri": "https://localhost:8080/"
        },
        "id": "9p36LrEm3H1K",
        "outputId": "7914de1c-c6ce-4fef-b190-cf6a591235bd"
      },
      "source": [
        "titanic_df.select(\"Initial\").distinct().show()"
      ],
      "execution_count": null,
      "outputs": [
        {
          "output_type": "stream",
          "text": [
            "+-------+\n",
            "|Initial|\n",
            "+-------+\n",
            "|   Miss|\n",
            "|  Other|\n",
            "| Master|\n",
            "|     Mr|\n",
            "|    Mrs|\n",
            "+-------+\n",
            "\n"
          ],
          "name": "stdout"
        }
      ]
    },
    {
      "cell_type": "code",
      "metadata": {
        "colab": {
          "base_uri": "https://localhost:8080/"
        },
        "id": "cZ_BLg123kmp",
        "outputId": "d152b71a-da9d-4823-b432-3aca1c1890ca"
      },
      "source": [
        "titanic_df.groupby('Initial').avg('Age').collect()"
      ],
      "execution_count": null,
      "outputs": [
        {
          "output_type": "execute_result",
          "data": {
            "text/plain": [
              "[Row(Initial='Miss', avg(Age)=21.86),\n",
              " Row(Initial='Other', avg(Age)=45.888888888888886),\n",
              " Row(Initial='Master', avg(Age)=4.574166666666667),\n",
              " Row(Initial='Mr', avg(Age)=32.73960880195599),\n",
              " Row(Initial='Mrs', avg(Age)=35.981818181818184)]"
            ]
          },
          "metadata": {
            "tags": []
          },
          "execution_count": 152
        }
      ]
    },
    {
      "cell_type": "code",
      "metadata": {
        "id": "q88AmA9K349D"
      },
      "source": [
        "\r\n",
        "titanic_df = titanic_df.withColumn(\"Age\",when((titanic_df[\"Initial\"] == \"Miss\") & (titanic_df[\"Age\"].isNull()), 22).otherwise(titanic_df[\"Age\"]))\r\n",
        "\r\n",
        "titanic_df = titanic_df.withColumn(\"Age\",when((titanic_df[\"Initial\"] == \"Other\") & (titanic_df[\"Age\"].isNull()), 46).otherwise(titanic_df[\"Age\"]))\r\n",
        "\r\n",
        "titanic_df = titanic_df.withColumn(\"Age\",when((titanic_df[\"Initial\"] == \"Master\") & (titanic_df[\"Age\"].isNull()), 4).otherwise(titanic_df[\"Age\"]))\r\n",
        "\r\n",
        "titanic_df = titanic_df.withColumn(\"Age\",when((titanic_df[\"Initial\"] == \"Mr\") & (titanic_df[\"Age\"].isNull()), 33).otherwise(titanic_df[\"Age\"]))\r\n",
        "\r\n",
        "titanic_df = titanic_df.withColumn(\"Age\",when((titanic_df[\"Initial\"] == \"Mrs\") & (titanic_df[\"Age\"].isNull()), 36).otherwise(titanic_df[\"Age\"]))"
      ],
      "execution_count": null,
      "outputs": []
    },
    {
      "cell_type": "code",
      "metadata": {
        "colab": {
          "base_uri": "https://localhost:8080/"
        },
        "id": "DcZM_Jst4xI-",
        "outputId": "036d84e7-36c1-4fb6-f819-66071749ed2e"
      },
      "source": [
        "titanic_df.show()"
      ],
      "execution_count": null,
      "outputs": [
        {
          "output_type": "stream",
          "text": [
            "+-----------+--------+------+--------------------+------+----+-----+-----+----------------+-------+-----+--------+-------+\n",
            "|PassengerId|Survived|Pclass|                Name|   Sex| Age|SibSp|Parch|          Ticket|   Fare|Cabin|Embarked|Initial|\n",
            "+-----------+--------+------+--------------------+------+----+-----+-----+----------------+-------+-----+--------+-------+\n",
            "|          1|       0|     3|Braund, Mr. Owen ...|  male|22.0|    1|    0|       A/5 21171|   7.25| null|       S|     Mr|\n",
            "|          2|       1|     1|Cumings, Mrs. Joh...|female|38.0|    1|    0|        PC 17599|71.2833|  C85|       C|    Mrs|\n",
            "|          3|       1|     3|Heikkinen, Miss. ...|female|26.0|    0|    0|STON/O2. 3101282|  7.925| null|       S|   Miss|\n",
            "|          4|       1|     1|Futrelle, Mrs. Ja...|female|35.0|    1|    0|          113803|   53.1| C123|       S|    Mrs|\n",
            "|          5|       0|     3|Allen, Mr. Willia...|  male|35.0|    0|    0|          373450|   8.05| null|       S|     Mr|\n",
            "|          6|       0|     3|    Moran, Mr. James|  male|33.0|    0|    0|          330877| 8.4583| null|       Q|     Mr|\n",
            "|          7|       0|     1|McCarthy, Mr. Tim...|  male|54.0|    0|    0|           17463|51.8625|  E46|       S|     Mr|\n",
            "|          8|       0|     3|Palsson, Master. ...|  male| 2.0|    3|    1|          349909| 21.075| null|       S| Master|\n",
            "|          9|       1|     3|Johnson, Mrs. Osc...|female|27.0|    0|    2|          347742|11.1333| null|       S|    Mrs|\n",
            "|         10|       1|     2|Nasser, Mrs. Nich...|female|14.0|    1|    0|          237736|30.0708| null|       C|    Mrs|\n",
            "|         11|       1|     3|Sandstrom, Miss. ...|female| 4.0|    1|    1|         PP 9549|   16.7|   G6|       S|   Miss|\n",
            "|         12|       1|     1|Bonnell, Miss. El...|female|58.0|    0|    0|          113783|  26.55| C103|       S|   Miss|\n",
            "|         13|       0|     3|Saundercock, Mr. ...|  male|20.0|    0|    0|       A/5. 2151|   8.05| null|       S|     Mr|\n",
            "|         14|       0|     3|Andersson, Mr. An...|  male|39.0|    1|    5|          347082| 31.275| null|       S|     Mr|\n",
            "|         15|       0|     3|Vestrom, Miss. Hu...|female|14.0|    0|    0|          350406| 7.8542| null|       S|   Miss|\n",
            "|         16|       1|     2|Hewlett, Mrs. (Ma...|female|55.0|    0|    0|          248706|   16.0| null|       S|    Mrs|\n",
            "|         17|       0|     3|Rice, Master. Eugene|  male| 2.0|    4|    1|          382652| 29.125| null|       Q| Master|\n",
            "|         18|       1|     2|Williams, Mr. Cha...|  male|33.0|    0|    0|          244373|   13.0| null|       S|     Mr|\n",
            "|         19|       0|     3|Vander Planke, Mr...|female|31.0|    1|    0|          345763|   18.0| null|       S|    Mrs|\n",
            "|         20|       1|     3|Masselmani, Mrs. ...|female|36.0|    0|    0|            2649|  7.225| null|       C|    Mrs|\n",
            "+-----------+--------+------+--------------------+------+----+-----+-----+----------------+-------+-----+--------+-------+\n",
            "only showing top 20 rows\n",
            "\n"
          ],
          "name": "stdout"
        }
      ]
    },
    {
      "cell_type": "code",
      "metadata": {
        "id": "SmUhoppV5YVl"
      },
      "source": [
        "titanic_df = titanic_df.na.fill({\"Embarked\" : 'S'})"
      ],
      "execution_count": null,
      "outputs": []
    },
    {
      "cell_type": "code",
      "metadata": {
        "colab": {
          "base_uri": "https://localhost:8080/"
        },
        "id": "VFGAHE505IuR",
        "outputId": "720d1adf-b845-49bc-bedf-138e80e96f32"
      },
      "source": [
        "titanic_df.groupBy(\"Embarked\").count().show()"
      ],
      "execution_count": null,
      "outputs": [
        {
          "output_type": "stream",
          "text": [
            "+--------+-----+\n",
            "|Embarked|count|\n",
            "+--------+-----+\n",
            "|       Q|   77|\n",
            "|       C|  168|\n",
            "|       S|  646|\n",
            "+--------+-----+\n",
            "\n"
          ],
          "name": "stdout"
        }
      ]
    },
    {
      "cell_type": "code",
      "metadata": {
        "id": "kNnl8Gjy5rvd"
      },
      "source": [
        "titanic_df = titanic_df.drop(\"Cabin\")"
      ],
      "execution_count": null,
      "outputs": []
    },
    {
      "cell_type": "code",
      "metadata": {
        "colab": {
          "base_uri": "https://localhost:8080/"
        },
        "id": "SZYOaR1K5w9W",
        "outputId": "b6a0e80d-47c0-4ba0-fdbc-689926e649d5"
      },
      "source": [
        "titanic_df.printSchema()"
      ],
      "execution_count": null,
      "outputs": [
        {
          "output_type": "stream",
          "text": [
            "root\n",
            " |-- PassengerId: integer (nullable = true)\n",
            " |-- Survived: integer (nullable = true)\n",
            " |-- Pclass: integer (nullable = true)\n",
            " |-- Name: string (nullable = true)\n",
            " |-- Sex: string (nullable = true)\n",
            " |-- Age: double (nullable = true)\n",
            " |-- SibSp: integer (nullable = true)\n",
            " |-- Parch: integer (nullable = true)\n",
            " |-- Ticket: string (nullable = true)\n",
            " |-- Fare: double (nullable = true)\n",
            " |-- Embarked: string (nullable = false)\n",
            " |-- Initial: string (nullable = true)\n",
            "\n"
          ],
          "name": "stdout"
        }
      ]
    },
    {
      "cell_type": "code",
      "metadata": {
        "id": "b-Jva3NE6KRh"
      },
      "source": [
        "titanic_df = titanic_df.withColumn(\"Family_Size\",col('SibSp')+col('Parch'))"
      ],
      "execution_count": null,
      "outputs": []
    },
    {
      "cell_type": "code",
      "metadata": {
        "colab": {
          "base_uri": "https://localhost:8080/"
        },
        "id": "OVlD9Fdn6Muy",
        "outputId": "3e845598-edd4-40e9-b216-754ac57aae55"
      },
      "source": [
        "titanic_df.groupBy(\"Family_Size\").count().show()"
      ],
      "execution_count": null,
      "outputs": [
        {
          "output_type": "stream",
          "text": [
            "+-----------+-----+\n",
            "|Family_Size|count|\n",
            "+-----------+-----+\n",
            "|          1|  161|\n",
            "|          6|   12|\n",
            "|          3|   29|\n",
            "|          5|   22|\n",
            "|          4|   15|\n",
            "|          7|    6|\n",
            "|         10|    7|\n",
            "|          2|  102|\n",
            "|          0|  537|\n",
            "+-----------+-----+\n",
            "\n"
          ],
          "name": "stdout"
        }
      ]
    },
    {
      "cell_type": "code",
      "metadata": {
        "id": "5LYyDWsY6b74"
      },
      "source": [
        "titanic_df = titanic_df.withColumn('Alone',lit(0))"
      ],
      "execution_count": null,
      "outputs": []
    },
    {
      "cell_type": "code",
      "metadata": {
        "colab": {
          "base_uri": "https://localhost:8080/"
        },
        "id": "SErBdhys6d5v",
        "outputId": "6ccf257a-a42d-4d37-ebfb-097cea0ddaf7"
      },
      "source": [
        "titanic_df.show()\r\n",
        "titanic_df.groupBy(\"Alone\").count().show()"
      ],
      "execution_count": null,
      "outputs": [
        {
          "output_type": "stream",
          "text": [
            "+-----------+--------+------+--------------------+------+----+-----+-----+----------------+-------+--------+-------+-----------+-----+\n",
            "|PassengerId|Survived|Pclass|                Name|   Sex| Age|SibSp|Parch|          Ticket|   Fare|Embarked|Initial|Family_Size|Alone|\n",
            "+-----------+--------+------+--------------------+------+----+-----+-----+----------------+-------+--------+-------+-----------+-----+\n",
            "|          1|       0|     3|Braund, Mr. Owen ...|  male|22.0|    1|    0|       A/5 21171|   7.25|       S|     Mr|          1|    0|\n",
            "|          2|       1|     1|Cumings, Mrs. Joh...|female|38.0|    1|    0|        PC 17599|71.2833|       C|    Mrs|          1|    0|\n",
            "|          3|       1|     3|Heikkinen, Miss. ...|female|26.0|    0|    0|STON/O2. 3101282|  7.925|       S|   Miss|          0|    0|\n",
            "|          4|       1|     1|Futrelle, Mrs. Ja...|female|35.0|    1|    0|          113803|   53.1|       S|    Mrs|          1|    0|\n",
            "|          5|       0|     3|Allen, Mr. Willia...|  male|35.0|    0|    0|          373450|   8.05|       S|     Mr|          0|    0|\n",
            "|          6|       0|     3|    Moran, Mr. James|  male|33.0|    0|    0|          330877| 8.4583|       Q|     Mr|          0|    0|\n",
            "|          7|       0|     1|McCarthy, Mr. Tim...|  male|54.0|    0|    0|           17463|51.8625|       S|     Mr|          0|    0|\n",
            "|          8|       0|     3|Palsson, Master. ...|  male| 2.0|    3|    1|          349909| 21.075|       S| Master|          4|    0|\n",
            "|          9|       1|     3|Johnson, Mrs. Osc...|female|27.0|    0|    2|          347742|11.1333|       S|    Mrs|          2|    0|\n",
            "|         10|       1|     2|Nasser, Mrs. Nich...|female|14.0|    1|    0|          237736|30.0708|       C|    Mrs|          1|    0|\n",
            "|         11|       1|     3|Sandstrom, Miss. ...|female| 4.0|    1|    1|         PP 9549|   16.7|       S|   Miss|          2|    0|\n",
            "|         12|       1|     1|Bonnell, Miss. El...|female|58.0|    0|    0|          113783|  26.55|       S|   Miss|          0|    0|\n",
            "|         13|       0|     3|Saundercock, Mr. ...|  male|20.0|    0|    0|       A/5. 2151|   8.05|       S|     Mr|          0|    0|\n",
            "|         14|       0|     3|Andersson, Mr. An...|  male|39.0|    1|    5|          347082| 31.275|       S|     Mr|          6|    0|\n",
            "|         15|       0|     3|Vestrom, Miss. Hu...|female|14.0|    0|    0|          350406| 7.8542|       S|   Miss|          0|    0|\n",
            "|         16|       1|     2|Hewlett, Mrs. (Ma...|female|55.0|    0|    0|          248706|   16.0|       S|    Mrs|          0|    0|\n",
            "|         17|       0|     3|Rice, Master. Eugene|  male| 2.0|    4|    1|          382652| 29.125|       Q| Master|          5|    0|\n",
            "|         18|       1|     2|Williams, Mr. Cha...|  male|33.0|    0|    0|          244373|   13.0|       S|     Mr|          0|    0|\n",
            "|         19|       0|     3|Vander Planke, Mr...|female|31.0|    1|    0|          345763|   18.0|       S|    Mrs|          1|    0|\n",
            "|         20|       1|     3|Masselmani, Mrs. ...|female|36.0|    0|    0|            2649|  7.225|       C|    Mrs|          0|    0|\n",
            "+-----------+--------+------+--------------------+------+----+-----+-----+----------------+-------+--------+-------+-----------+-----+\n",
            "only showing top 20 rows\n",
            "\n",
            "+-----+-----+\n",
            "|Alone|count|\n",
            "+-----+-----+\n",
            "|    0|  891|\n",
            "+-----+-----+\n",
            "\n"
          ],
          "name": "stdout"
        }
      ]
    },
    {
      "cell_type": "code",
      "metadata": {
        "id": "HaxGkX1Z7iaA"
      },
      "source": [
        "indexers = [StringIndexer(inputCol=column, outputCol=column+\"_index\").fit(titanic_df) for column in [\"Sex\",\"Embarked\",\"Initial\"]]\r\n",
        "pipeline = Pipeline(stages=indexers)\r\n",
        "titanic_df = pipeline.fit(titanic_df).transform(titanic_df)\r\n"
      ],
      "execution_count": null,
      "outputs": []
    },
    {
      "cell_type": "code",
      "metadata": {
        "colab": {
          "base_uri": "https://localhost:8080/"
        },
        "id": "eBxqoX407mr9",
        "outputId": "737c1664-c133-431c-f4c1-61cae3be710d"
      },
      "source": [
        "titanic_df.printSchema()"
      ],
      "execution_count": null,
      "outputs": [
        {
          "output_type": "stream",
          "text": [
            "root\n",
            " |-- PassengerId: integer (nullable = true)\n",
            " |-- Survived: integer (nullable = true)\n",
            " |-- Pclass: integer (nullable = true)\n",
            " |-- Name: string (nullable = true)\n",
            " |-- Sex: string (nullable = true)\n",
            " |-- Age: double (nullable = true)\n",
            " |-- SibSp: integer (nullable = true)\n",
            " |-- Parch: integer (nullable = true)\n",
            " |-- Ticket: string (nullable = true)\n",
            " |-- Fare: double (nullable = true)\n",
            " |-- Embarked: string (nullable = false)\n",
            " |-- Initial: string (nullable = true)\n",
            " |-- Family_Size: integer (nullable = true)\n",
            " |-- Alone: integer (nullable = false)\n",
            " |-- Sex_index: double (nullable = false)\n",
            " |-- Embarked_index: double (nullable = false)\n",
            " |-- Initial_index: double (nullable = false)\n",
            "\n"
          ],
          "name": "stdout"
        }
      ]
    },
    {
      "cell_type": "code",
      "metadata": {
        "id": "KxJnQ-a28sRq"
      },
      "source": [
        "titanic_df = titanic_df.drop(\"PassengerId\",\"Name\",\"Ticket\",\"Cabin\",\"Embarked\",\"Sex\",\"Initial\")"
      ],
      "execution_count": null,
      "outputs": []
    },
    {
      "cell_type": "code",
      "metadata": {
        "colab": {
          "base_uri": "https://localhost:8080/"
        },
        "id": "hDaOO0BD8vUJ",
        "outputId": "15a56024-c918-45ee-ce37-c058dcb3224f"
      },
      "source": [
        "titanic_df.show()"
      ],
      "execution_count": null,
      "outputs": [
        {
          "output_type": "stream",
          "text": [
            "+--------+------+----+-----+-----+-------+-----------+-----+---------+--------------+-------------+\n",
            "|Survived|Pclass| Age|SibSp|Parch|   Fare|Family_Size|Alone|Sex_index|Embarked_index|Initial_index|\n",
            "+--------+------+----+-----+-----+-------+-----------+-----+---------+--------------+-------------+\n",
            "|       0|     3|22.0|    1|    0|   7.25|          1|    0|      0.0|           0.0|          0.0|\n",
            "|       1|     1|38.0|    1|    0|71.2833|          1|    0|      1.0|           1.0|          2.0|\n",
            "|       1|     3|26.0|    0|    0|  7.925|          0|    0|      1.0|           0.0|          1.0|\n",
            "|       1|     1|35.0|    1|    0|   53.1|          1|    0|      1.0|           0.0|          2.0|\n",
            "|       0|     3|35.0|    0|    0|   8.05|          0|    0|      0.0|           0.0|          0.0|\n",
            "|       0|     3|33.0|    0|    0| 8.4583|          0|    0|      0.0|           2.0|          0.0|\n",
            "|       0|     1|54.0|    0|    0|51.8625|          0|    0|      0.0|           0.0|          0.0|\n",
            "|       0|     3| 2.0|    3|    1| 21.075|          4|    0|      0.0|           0.0|          3.0|\n",
            "|       1|     3|27.0|    0|    2|11.1333|          2|    0|      1.0|           0.0|          2.0|\n",
            "|       1|     2|14.0|    1|    0|30.0708|          1|    0|      1.0|           1.0|          2.0|\n",
            "|       1|     3| 4.0|    1|    1|   16.7|          2|    0|      1.0|           0.0|          1.0|\n",
            "|       1|     1|58.0|    0|    0|  26.55|          0|    0|      1.0|           0.0|          1.0|\n",
            "|       0|     3|20.0|    0|    0|   8.05|          0|    0|      0.0|           0.0|          0.0|\n",
            "|       0|     3|39.0|    1|    5| 31.275|          6|    0|      0.0|           0.0|          0.0|\n",
            "|       0|     3|14.0|    0|    0| 7.8542|          0|    0|      1.0|           0.0|          1.0|\n",
            "|       1|     2|55.0|    0|    0|   16.0|          0|    0|      1.0|           0.0|          2.0|\n",
            "|       0|     3| 2.0|    4|    1| 29.125|          5|    0|      0.0|           2.0|          3.0|\n",
            "|       1|     2|33.0|    0|    0|   13.0|          0|    0|      0.0|           0.0|          0.0|\n",
            "|       0|     3|31.0|    1|    0|   18.0|          1|    0|      1.0|           0.0|          2.0|\n",
            "|       1|     3|36.0|    0|    0|  7.225|          0|    0|      1.0|           1.0|          2.0|\n",
            "+--------+------+----+-----+-----+-------+-----------+-----+---------+--------------+-------------+\n",
            "only showing top 20 rows\n",
            "\n"
          ],
          "name": "stdout"
        }
      ]
    },
    {
      "cell_type": "code",
      "metadata": {
        "id": "O84m348G9St5"
      },
      "source": [
        "feature = VectorAssembler(inputCols=titanic_df.columns[1:],outputCol=\"features\")\r\n",
        "feature_vector= feature.transform(titanic_df)"
      ],
      "execution_count": null,
      "outputs": []
    },
    {
      "cell_type": "code",
      "metadata": {
        "colab": {
          "base_uri": "https://localhost:8080/"
        },
        "id": "qTwoEdy59VPK",
        "outputId": "37d177f7-5a0a-4454-e1c1-af127b0e5958"
      },
      "source": [
        "feature_vector.show()"
      ],
      "execution_count": null,
      "outputs": [
        {
          "output_type": "stream",
          "text": [
            "+--------+------+----+-----+-----+-------+-----------+-----+---------+--------------+-------------+--------------------+\n",
            "|Survived|Pclass| Age|SibSp|Parch|   Fare|Family_Size|Alone|Sex_index|Embarked_index|Initial_index|            features|\n",
            "+--------+------+----+-----+-----+-------+-----------+-----+---------+--------------+-------------+--------------------+\n",
            "|       0|     3|22.0|    1|    0|   7.25|          1|    0|      0.0|           0.0|          0.0|(10,[0,1,2,4,5],[...|\n",
            "|       1|     1|38.0|    1|    0|71.2833|          1|    0|      1.0|           1.0|          2.0|[1.0,38.0,1.0,0.0...|\n",
            "|       1|     3|26.0|    0|    0|  7.925|          0|    0|      1.0|           0.0|          1.0|(10,[0,1,4,7,9],[...|\n",
            "|       1|     1|35.0|    1|    0|   53.1|          1|    0|      1.0|           0.0|          2.0|[1.0,35.0,1.0,0.0...|\n",
            "|       0|     3|35.0|    0|    0|   8.05|          0|    0|      0.0|           0.0|          0.0|(10,[0,1,4],[3.0,...|\n",
            "|       0|     3|33.0|    0|    0| 8.4583|          0|    0|      0.0|           2.0|          0.0|(10,[0,1,4,8],[3....|\n",
            "|       0|     1|54.0|    0|    0|51.8625|          0|    0|      0.0|           0.0|          0.0|(10,[0,1,4],[1.0,...|\n",
            "|       0|     3| 2.0|    3|    1| 21.075|          4|    0|      0.0|           0.0|          3.0|[3.0,2.0,3.0,1.0,...|\n",
            "|       1|     3|27.0|    0|    2|11.1333|          2|    0|      1.0|           0.0|          2.0|[3.0,27.0,0.0,2.0...|\n",
            "|       1|     2|14.0|    1|    0|30.0708|          1|    0|      1.0|           1.0|          2.0|[2.0,14.0,1.0,0.0...|\n",
            "|       1|     3| 4.0|    1|    1|   16.7|          2|    0|      1.0|           0.0|          1.0|[3.0,4.0,1.0,1.0,...|\n",
            "|       1|     1|58.0|    0|    0|  26.55|          0|    0|      1.0|           0.0|          1.0|(10,[0,1,4,7,9],[...|\n",
            "|       0|     3|20.0|    0|    0|   8.05|          0|    0|      0.0|           0.0|          0.0|(10,[0,1,4],[3.0,...|\n",
            "|       0|     3|39.0|    1|    5| 31.275|          6|    0|      0.0|           0.0|          0.0|[3.0,39.0,1.0,5.0...|\n",
            "|       0|     3|14.0|    0|    0| 7.8542|          0|    0|      1.0|           0.0|          1.0|(10,[0,1,4,7,9],[...|\n",
            "|       1|     2|55.0|    0|    0|   16.0|          0|    0|      1.0|           0.0|          2.0|(10,[0,1,4,7,9],[...|\n",
            "|       0|     3| 2.0|    4|    1| 29.125|          5|    0|      0.0|           2.0|          3.0|[3.0,2.0,4.0,1.0,...|\n",
            "|       1|     2|33.0|    0|    0|   13.0|          0|    0|      0.0|           0.0|          0.0|(10,[0,1,4],[2.0,...|\n",
            "|       0|     3|31.0|    1|    0|   18.0|          1|    0|      1.0|           0.0|          2.0|[3.0,31.0,1.0,0.0...|\n",
            "|       1|     3|36.0|    0|    0|  7.225|          0|    0|      1.0|           1.0|          2.0|[3.0,36.0,0.0,0.0...|\n",
            "+--------+------+----+-----+-----+-------+-----------+-----+---------+--------------+-------------+--------------------+\n",
            "only showing top 20 rows\n",
            "\n"
          ],
          "name": "stdout"
        }
      ]
    },
    {
      "cell_type": "code",
      "metadata": {
        "colab": {
          "base_uri": "https://localhost:8080/"
        },
        "id": "HNqGmlAs9kEO",
        "outputId": "44b15bfc-5980-470f-d83a-7e1ca86f6f2d"
      },
      "source": [
        "(trainingData, testData) = feature_vector.randomSplit([0.8, 0.2],seed = 11)\r\n",
        "trainingData.count()\r\n",
        "testData.count()"
      ],
      "execution_count": null,
      "outputs": [
        {
          "output_type": "execute_result",
          "data": {
            "text/plain": [
              "171"
            ]
          },
          "metadata": {
            "tags": []
          },
          "execution_count": 178
        }
      ]
    },
    {
      "cell_type": "code",
      "metadata": {
        "colab": {
          "base_uri": "https://localhost:8080/"
        },
        "id": "l0hC2rgQ_GBN",
        "outputId": "b5abd18c-6f84-4c8d-d68a-b4228d75accb"
      },
      "source": [
        "from pyspark.ml.classification import LogisticRegression\r\n",
        "lr = LogisticRegression(labelCol=\"Survived\", featuresCol=\"features\")\r\n",
        "#Training algo\r\n",
        "lrModel = lr.fit(trainingData)\r\n",
        "lr_prediction = lrModel.transform(testData)\r\n",
        "lr_prediction.select(\"prediction\", \"Survived\", \"features\").show()\r\n",
        "evaluator = MulticlassClassificationEvaluator(labelCol=\"Survived\", predictionCol=\"prediction\", metricName=\"accuracy\")"
      ],
      "execution_count": null,
      "outputs": [
        {
          "output_type": "stream",
          "text": [
            "+----------+--------+--------------------+\n",
            "|prediction|Survived|            features|\n",
            "+----------+--------+--------------------+\n",
            "|       0.0|       0|[1.0,19.0,3.0,2.0...|\n",
            "|       1.0|       0|[1.0,27.0,0.0,2.0...|\n",
            "|       0.0|       0|(10,[0,1,4],[1.0,...|\n",
            "|       0.0|       0|[1.0,28.0,1.0,0.0...|\n",
            "|       0.0|       0|(10,[0,1,4],[1.0,...|\n",
            "|       0.0|       0|(10,[0,1,4,8],[1....|\n",
            "|       0.0|       0|(10,[0,1,3,4,5],[...|\n",
            "|       0.0|       0|(10,[0,1],[1.0,40...|\n",
            "|       0.0|       0|(10,[0,1,4,8],[1....|\n",
            "|       0.0|       0|(10,[0,1,2,4,5],[...|\n",
            "|       0.0|       0|[1.0,51.0,0.0,1.0...|\n",
            "|       0.0|       0|(10,[0,1,4,8],[1....|\n",
            "|       0.0|       0|(10,[0,1,4,8],[1....|\n",
            "|       0.0|       0|(10,[0,1,4],[2.0,...|\n",
            "|       0.0|       0|(10,[0,1,4],[2.0,...|\n",
            "|       0.0|       0|(10,[0,1,4],[2.0,...|\n",
            "|       0.0|       0|(10,[0,1,2,4,5],[...|\n",
            "|       0.0|       0|(10,[0,1,2,4,5],[...|\n",
            "|       0.0|       0|(10,[0,1,2,4,5],[...|\n",
            "|       0.0|       0|(10,[0,1,4],[2.0,...|\n",
            "+----------+--------+--------------------+\n",
            "only showing top 20 rows\n",
            "\n"
          ],
          "name": "stdout"
        }
      ]
    },
    {
      "cell_type": "code",
      "metadata": {
        "colab": {
          "base_uri": "https://localhost:8080/"
        },
        "id": "AppmfDQF_Vll",
        "outputId": "cf073176-664b-4958-ebf2-c084c72cedf7"
      },
      "source": [
        "lr_accuracy = evaluator.evaluate(lr_prediction)\r\n",
        "print(\"Accuracy of LogisticRegression is = %g\"% (lr_accuracy))\r\n",
        "print(\"Test Error of LogisticRegression = %g \" % (1.0 - lr_accuracy))"
      ],
      "execution_count": null,
      "outputs": [
        {
          "output_type": "stream",
          "text": [
            "Accuracy of LogisticRegression is = 0.836257\n",
            "Test Error of LogisticRegression = 0.163743 \n"
          ],
          "name": "stdout"
        }
      ]
    },
    {
      "cell_type": "code",
      "metadata": {
        "colab": {
          "base_uri": "https://localhost:8080/"
        },
        "id": "cz5UG29NAJfi",
        "outputId": "01766a91-0298-4da9-9613-ff816ca47736"
      },
      "source": [
        "from pyspark.ml.classification import DecisionTreeClassifier\r\n",
        "dt = DecisionTreeClassifier(labelCol=\"Survived\", featuresCol=\"features\")\r\n",
        "dt_model = dt.fit(trainingData)\r\n",
        "dt_prediction = dt_model.transform(testData)\r\n",
        "dt_prediction.select(\"prediction\", \"Survived\", \"features\").show()"
      ],
      "execution_count": null,
      "outputs": [
        {
          "output_type": "stream",
          "text": [
            "+----------+--------+--------------------+\n",
            "|prediction|Survived|            features|\n",
            "+----------+--------+--------------------+\n",
            "|       0.0|       0|[1.0,19.0,3.0,2.0...|\n",
            "|       0.0|       0|[1.0,27.0,0.0,2.0...|\n",
            "|       0.0|       0|(10,[0,1,4],[1.0,...|\n",
            "|       0.0|       0|[1.0,28.0,1.0,0.0...|\n",
            "|       0.0|       0|(10,[0,1,4],[1.0,...|\n",
            "|       0.0|       0|(10,[0,1,4,8],[1....|\n",
            "|       0.0|       0|(10,[0,1,3,4,5],[...|\n",
            "|       0.0|       0|(10,[0,1],[1.0,40...|\n",
            "|       0.0|       0|(10,[0,1,4,8],[1....|\n",
            "|       0.0|       0|(10,[0,1,2,4,5],[...|\n",
            "|       0.0|       0|[1.0,51.0,0.0,1.0...|\n",
            "|       0.0|       0|(10,[0,1,4,8],[1....|\n",
            "|       0.0|       0|(10,[0,1,4,8],[1....|\n",
            "|       0.0|       0|(10,[0,1,4],[2.0,...|\n",
            "|       1.0|       0|(10,[0,1,4],[2.0,...|\n",
            "|       0.0|       0|(10,[0,1,4],[2.0,...|\n",
            "|       0.0|       0|(10,[0,1,2,4,5],[...|\n",
            "|       0.0|       0|(10,[0,1,2,4,5],[...|\n",
            "|       0.0|       0|(10,[0,1,2,4,5],[...|\n",
            "|       0.0|       0|(10,[0,1,4],[2.0,...|\n",
            "+----------+--------+--------------------+\n",
            "only showing top 20 rows\n",
            "\n"
          ],
          "name": "stdout"
        }
      ]
    },
    {
      "cell_type": "code",
      "metadata": {
        "colab": {
          "base_uri": "https://localhost:8080/"
        },
        "id": "oK56ar86AXpH",
        "outputId": "83ec7ebb-7abf-4e1b-f61c-96e74c961eee"
      },
      "source": [
        "dt_accuracy = evaluator.evaluate(dt_prediction)\r\n",
        "print(\"Accuracy of DecisionTreeClassifier is = %g\"% (dt_accuracy))\r\n",
        "print(\"Test Error of DecisionTreeClassifier = %g \" % (1.0 - dt_accuracy))\r\n"
      ],
      "execution_count": null,
      "outputs": [
        {
          "output_type": "stream",
          "text": [
            "Accuracy of DecisionTreeClassifier is = 0.842105\n",
            "Test Error of DecisionTreeClassifier = 0.157895 \n"
          ],
          "name": "stdout"
        }
      ]
    },
    {
      "cell_type": "code",
      "metadata": {
        "colab": {
          "base_uri": "https://localhost:8080/"
        },
        "id": "vivwDOJbAoJx",
        "outputId": "64495cb3-6625-4fe6-a1af-a81502652858"
      },
      "source": [
        "from pyspark.ml.classification import RandomForestClassifier\r\n",
        "rf = DecisionTreeClassifier(labelCol=\"Survived\", featuresCol=\"features\")\r\n",
        "rf_model = rf.fit(trainingData)\r\n",
        "rf_prediction = rf_model.transform(testData)\r\n",
        "rf_prediction.select(\"prediction\", \"Survived\", \"features\").show()"
      ],
      "execution_count": null,
      "outputs": [
        {
          "output_type": "stream",
          "text": [
            "+----------+--------+--------------------+\n",
            "|prediction|Survived|            features|\n",
            "+----------+--------+--------------------+\n",
            "|       0.0|       0|[1.0,19.0,3.0,2.0...|\n",
            "|       0.0|       0|[1.0,27.0,0.0,2.0...|\n",
            "|       0.0|       0|(10,[0,1,4],[1.0,...|\n",
            "|       0.0|       0|[1.0,28.0,1.0,0.0...|\n",
            "|       0.0|       0|(10,[0,1,4],[1.0,...|\n",
            "|       0.0|       0|(10,[0,1,4,8],[1....|\n",
            "|       0.0|       0|(10,[0,1,3,4,5],[...|\n",
            "|       0.0|       0|(10,[0,1],[1.0,40...|\n",
            "|       0.0|       0|(10,[0,1,4,8],[1....|\n",
            "|       0.0|       0|(10,[0,1,2,4,5],[...|\n",
            "|       0.0|       0|[1.0,51.0,0.0,1.0...|\n",
            "|       0.0|       0|(10,[0,1,4,8],[1....|\n",
            "|       0.0|       0|(10,[0,1,4,8],[1....|\n",
            "|       0.0|       0|(10,[0,1,4],[2.0,...|\n",
            "|       1.0|       0|(10,[0,1,4],[2.0,...|\n",
            "|       0.0|       0|(10,[0,1,4],[2.0,...|\n",
            "|       0.0|       0|(10,[0,1,2,4,5],[...|\n",
            "|       0.0|       0|(10,[0,1,2,4,5],[...|\n",
            "|       0.0|       0|(10,[0,1,2,4,5],[...|\n",
            "|       0.0|       0|(10,[0,1,4],[2.0,...|\n",
            "+----------+--------+--------------------+\n",
            "only showing top 20 rows\n",
            "\n"
          ],
          "name": "stdout"
        }
      ]
    },
    {
      "cell_type": "code",
      "metadata": {
        "colab": {
          "base_uri": "https://localhost:8080/"
        },
        "id": "8nYfQG50A0tb",
        "outputId": "a9ac3762-536b-4819-cba2-c053692c8662"
      },
      "source": [
        "\r\n",
        "rf_accuracy = evaluator.evaluate(rf_prediction)\r\n",
        "print(\"Accuracy of RandomForestClassifier is = %g\"% (rf_accuracy))\r\n",
        "print(\"Test Error of RandomForestClassifier  = %g \" % (1.0 - rf_accuracy))"
      ],
      "execution_count": null,
      "outputs": [
        {
          "output_type": "stream",
          "text": [
            "Accuracy of RandomForestClassifier is = 0.842105\n",
            "Test Error of RandomForestClassifier  = 0.157895 \n"
          ],
          "name": "stdout"
        }
      ]
    },
    {
      "cell_type": "code",
      "metadata": {
        "colab": {
          "base_uri": "https://localhost:8080/"
        },
        "id": "mjtoYNEzA9MH",
        "outputId": "e195d768-95d2-4b85-b451-8b240a2540d8"
      },
      "source": [
        "from pyspark.ml.classification import GBTClassifier\r\n",
        "gbt = GBTClassifier(labelCol=\"Survived\", featuresCol=\"features\",maxIter=10)\r\n",
        "gbt_model = gbt.fit(trainingData)\r\n",
        "gbt_prediction = gbt_model.transform(testData)\r\n",
        "gbt_prediction.select(\"prediction\", \"Survived\", \"features\").show()"
      ],
      "execution_count": null,
      "outputs": [
        {
          "output_type": "stream",
          "text": [
            "+----------+--------+--------------------+\n",
            "|prediction|Survived|            features|\n",
            "+----------+--------+--------------------+\n",
            "|       0.0|       0|[1.0,19.0,3.0,2.0...|\n",
            "|       1.0|       0|[1.0,27.0,0.0,2.0...|\n",
            "|       1.0|       0|(10,[0,1,4],[1.0,...|\n",
            "|       1.0|       0|[1.0,28.0,1.0,0.0...|\n",
            "|       1.0|       0|(10,[0,1,4],[1.0,...|\n",
            "|       0.0|       0|(10,[0,1,4,8],[1....|\n",
            "|       0.0|       0|(10,[0,1,3,4,5],[...|\n",
            "|       0.0|       0|(10,[0,1],[1.0,40...|\n",
            "|       0.0|       0|(10,[0,1,4,8],[1....|\n",
            "|       0.0|       0|(10,[0,1,2,4,5],[...|\n",
            "|       0.0|       0|[1.0,51.0,0.0,1.0...|\n",
            "|       0.0|       0|(10,[0,1,4,8],[1....|\n",
            "|       0.0|       0|(10,[0,1,4,8],[1....|\n",
            "|       0.0|       0|(10,[0,1,4],[2.0,...|\n",
            "|       0.0|       0|(10,[0,1,4],[2.0,...|\n",
            "|       0.0|       0|(10,[0,1,4],[2.0,...|\n",
            "|       0.0|       0|(10,[0,1,2,4,5],[...|\n",
            "|       0.0|       0|(10,[0,1,2,4,5],[...|\n",
            "|       0.0|       0|(10,[0,1,2,4,5],[...|\n",
            "|       0.0|       0|(10,[0,1,4],[2.0,...|\n",
            "+----------+--------+--------------------+\n",
            "only showing top 20 rows\n",
            "\n"
          ],
          "name": "stdout"
        }
      ]
    },
    {
      "cell_type": "code",
      "metadata": {
        "colab": {
          "base_uri": "https://localhost:8080/"
        },
        "id": "HTuWkQNHBNud",
        "outputId": "e52f74d7-6192-415e-8911-a0d19aa95213"
      },
      "source": [
        "gbt_accuracy = evaluator.evaluate(gbt_prediction)\r\n",
        "print(\"Accuracy of Gradient-boosted tree classifie is = %g\"% (gbt_accuracy))\r\n",
        "print(\"Test Error of Gradient-boosted tree classifie %g\"% (1.0 - gbt_accuracy))"
      ],
      "execution_count": null,
      "outputs": [
        {
          "output_type": "stream",
          "text": [
            "Accuracy of Gradient-boosted tree classifie is = 0.818713\n",
            "Test Error of Gradient-boosted tree classifie 0.181287\n"
          ],
          "name": "stdout"
        }
      ]
    },
    {
      "cell_type": "code",
      "metadata": {
        "colab": {
          "base_uri": "https://localhost:8080/"
        },
        "id": "_lebhLlgBkke",
        "outputId": "0860d9c1-a9e4-4829-b98a-38e6b44e070c"
      },
      "source": [
        "from pyspark.ml.classification import NaiveBayes\r\n",
        "nb = NaiveBayes(labelCol=\"Survived\", featuresCol=\"features\")\r\n",
        "nb_model = nb.fit(trainingData)\r\n",
        "nb_prediction = nb_model.transform(testData)\r\n",
        "nb_prediction.select(\"prediction\", \"Survived\", \"features\").show()\r\n"
      ],
      "execution_count": null,
      "outputs": [
        {
          "output_type": "stream",
          "text": [
            "+----------+--------+--------------------+\n",
            "|prediction|Survived|            features|\n",
            "+----------+--------+--------------------+\n",
            "|       1.0|       0|[1.0,19.0,3.0,2.0...|\n",
            "|       1.0|       0|[1.0,27.0,0.0,2.0...|\n",
            "|       1.0|       0|(10,[0,1,4],[1.0,...|\n",
            "|       1.0|       0|[1.0,28.0,1.0,0.0...|\n",
            "|       0.0|       0|(10,[0,1,4],[1.0,...|\n",
            "|       0.0|       0|(10,[0,1,4,8],[1....|\n",
            "|       1.0|       0|(10,[0,1,3,4,5],[...|\n",
            "|       0.0|       0|(10,[0,1],[1.0,40...|\n",
            "|       0.0|       0|(10,[0,1,4,8],[1....|\n",
            "|       1.0|       0|(10,[0,1,2,4,5],[...|\n",
            "|       1.0|       0|[1.0,51.0,0.0,1.0...|\n",
            "|       0.0|       0|(10,[0,1,4,8],[1....|\n",
            "|       0.0|       0|(10,[0,1,4,8],[1....|\n",
            "|       1.0|       0|(10,[0,1,4],[2.0,...|\n",
            "|       1.0|       0|(10,[0,1,4],[2.0,...|\n",
            "|       0.0|       0|(10,[0,1,4],[2.0,...|\n",
            "|       0.0|       0|(10,[0,1,2,4,5],[...|\n",
            "|       1.0|       0|(10,[0,1,2,4,5],[...|\n",
            "|       0.0|       0|(10,[0,1,2,4,5],[...|\n",
            "|       0.0|       0|(10,[0,1,4],[2.0,...|\n",
            "+----------+--------+--------------------+\n",
            "only showing top 20 rows\n",
            "\n"
          ],
          "name": "stdout"
        }
      ]
    },
    {
      "cell_type": "code",
      "metadata": {
        "colab": {
          "base_uri": "https://localhost:8080/"
        },
        "id": "7tOOANvmBz9_",
        "outputId": "bf84bd55-3327-4b0f-9161-c183fc4a9159"
      },
      "source": [
        "nb_accuracy = evaluator.evaluate(nb_prediction)\r\n",
        "print(\"Accuracy of NaiveBayes is  = %g\"% (nb_accuracy))\r\n",
        "print(\"Test Error of NaiveBayes  = %g \" % (1.0 - nb_accuracy))"
      ],
      "execution_count": null,
      "outputs": [
        {
          "output_type": "stream",
          "text": [
            "Accuracy of NaiveBayes is  = 0.695906\n",
            "Test Error of NaiveBayes  = 0.304094 \n"
          ],
          "name": "stdout"
        }
      ]
    },
    {
      "cell_type": "code",
      "metadata": {
        "colab": {
          "base_uri": "https://localhost:8080/"
        },
        "id": "Uo3fP4XzB7U_",
        "outputId": "3d98b2e2-7cfe-41e9-e56e-441e1f7246f8"
      },
      "source": [
        "from pyspark.ml.classification import LinearSVC\r\n",
        "svm = LinearSVC(labelCol=\"Survived\", featuresCol=\"features\")\r\n",
        "svm_model = svm.fit(trainingData)\r\n",
        "svm_prediction = svm_model.transform(testData)\r\n",
        "svm_prediction.select(\"prediction\", \"Survived\", \"features\").show()"
      ],
      "execution_count": null,
      "outputs": [
        {
          "output_type": "stream",
          "text": [
            "+----------+--------+--------------------+\n",
            "|prediction|Survived|            features|\n",
            "+----------+--------+--------------------+\n",
            "|       0.0|       0|[1.0,19.0,3.0,2.0...|\n",
            "|       0.0|       0|[1.0,27.0,0.0,2.0...|\n",
            "|       0.0|       0|(10,[0,1,4],[1.0,...|\n",
            "|       0.0|       0|[1.0,28.0,1.0,0.0...|\n",
            "|       0.0|       0|(10,[0,1,4],[1.0,...|\n",
            "|       0.0|       0|(10,[0,1,4,8],[1....|\n",
            "|       0.0|       0|(10,[0,1,3,4,5],[...|\n",
            "|       0.0|       0|(10,[0,1],[1.0,40...|\n",
            "|       0.0|       0|(10,[0,1,4,8],[1....|\n",
            "|       0.0|       0|(10,[0,1,2,4,5],[...|\n",
            "|       0.0|       0|[1.0,51.0,0.0,1.0...|\n",
            "|       0.0|       0|(10,[0,1,4,8],[1....|\n",
            "|       0.0|       0|(10,[0,1,4,8],[1....|\n",
            "|       0.0|       0|(10,[0,1,4],[2.0,...|\n",
            "|       0.0|       0|(10,[0,1,4],[2.0,...|\n",
            "|       0.0|       0|(10,[0,1,4],[2.0,...|\n",
            "|       0.0|       0|(10,[0,1,2,4,5],[...|\n",
            "|       0.0|       0|(10,[0,1,2,4,5],[...|\n",
            "|       0.0|       0|(10,[0,1,2,4,5],[...|\n",
            "|       0.0|       0|(10,[0,1,4],[2.0,...|\n",
            "+----------+--------+--------------------+\n",
            "only showing top 20 rows\n",
            "\n"
          ],
          "name": "stdout"
        }
      ]
    },
    {
      "cell_type": "code",
      "metadata": {
        "id": "XDfSMatPCQGU",
        "colab": {
          "base_uri": "https://localhost:8080/"
        },
        "outputId": "24f8137c-bfdf-41c1-9eea-1a0ebf448fb3"
      },
      "source": [
        "\r\n",
        "svm_accuracy = evaluator.evaluate(svm_prediction)\r\n",
        "print(\"Accuracy of Support Vector Machine is = %g\"% (svm_accuracy))\r\n",
        "print(\"Test Error of Support Vector Machine = %g \" % (1.0 - svm_accuracy))"
      ],
      "execution_count": null,
      "outputs": [
        {
          "output_type": "stream",
          "text": [
            "Accuracy of Support Vector Machine is = 0.842105\n",
            "Test Error of Support Vector Machine = 0.157895 \n"
          ],
          "name": "stdout"
        }
      ]
    }
  ]
}